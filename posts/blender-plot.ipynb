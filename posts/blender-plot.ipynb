{
 "cells": [
  {
   "cell_type": "code",
   "execution_count": 1,
   "metadata": {},
   "outputs": [],
   "source": [
    "import bpy\n",
    "\n",
    "collection_name = \"Collection\"\n",
    "\n",
    "# Get the collection from its name\n",
    "collection = bpy.data.collections[collection_name]\n",
    "\n",
    "# Will collect meshes from delete objects\n",
    "meshes = set()\n",
    "\n",
    "# Get objects in the collection if they are meshes\n",
    "for obj in [o for o in collection.objects if o.type == 'MESH']:\n",
    "    # Store the internal mesh\n",
    "    meshes.add( obj.data )\n",
    "    # Delete the object\n",
    "    bpy.data.objects.remove( obj )\n",
    "\n",
    "# Look at meshes that are orphan after objects removal\n",
    "for mesh in [m for m in meshes if m.users == 0]:\n",
    "    # Delete the meshes\n",
    "    bpy.data.meshes.remove( mesh )"
   ]
  },
  {
   "cell_type": "code",
   "execution_count": 2,
   "metadata": {},
   "outputs": [
    {
     "data": {
      "text/plain": [
       "<blender_plots.scatter.Scatter at 0x173c8dea0>"
      ]
     },
     "execution_count": 2,
     "metadata": {},
     "output_type": "execute_result"
    }
   ],
   "source": [
    "import numpy as np\n",
    "import blender_plots as bplt\n",
    "\n",
    "n, l = 150, 100\n",
    "x, y = np.meshgrid(np.linspace(0, l, n), np.linspace(0, l, n))\n",
    "x, y = x.ravel(), y.ravel()\n",
    "\n",
    "z = np.sin(2 * np.pi * x / l) * np.sin(2 * np.pi * y / l) * 20\n",
    "bplt.Scatter(x, y, z, color=(1, 0, 0), name=\"red\")\n",
    "\n",
    "z = np.sin(4 * np.pi * x / l) * np.sin(4 * np.pi * y / l) * 20 + 40\n",
    "bplt.Scatter(x, y, z, color=(0, 0, 1), name=\"blue\")\n",
    "\n",
    "# z = np.sin(8 * np.pi * x / l) * np.sin(8 * np.pi * y / l) * 20 - 40\n",
    "# bplt.Scatter(x, y, z, color=(1, 1, 1), name=\"white\")"
   ]
  },
  {
   "cell_type": "code",
   "execution_count": 3,
   "metadata": {},
   "outputs": [
    {
     "data": {
      "text/plain": [
       "<blender_plots.surface.Surface at 0x173c8db40>"
      ]
     },
     "execution_count": 3,
     "metadata": {},
     "output_type": "execute_result"
    },
    {
     "ename": "",
     "evalue": "",
     "output_type": "error",
     "traceback": [
      "\u001b[1;31mThe Kernel crashed while executing code in the the current cell or a previous cell. Please review the code in the cell(s) to identify a possible cause of the failure. Click <a href='https://aka.ms/vscodeJupyterKernelCrash'>here</a> for more info. View Jupyter <a href='command:jupyter.viewOutput'>log</a> for further details."
     ]
    }
   ],
   "source": [
    "import numpy as np\n",
    "import blender_plots as bplt\n",
    "n, l = 150, 100\n",
    "x, y = np.meshgrid(np.linspace(0, l, n), np.linspace(0, l, n))\n",
    "\n",
    "# z = np.sin(2*np.pi * x / l)*np.sin(2*np.pi * y / l) * 20\n",
    "# bplt.Surface(x, y, z, color=(1, 0, 0), name=\"red\")\n",
    "\n",
    "# z = np.sin(4*np.pi * x / l)*np.sin(4*np.pi * y / l) * 20 + 40\n",
    "# bplt.Surface(x, y, z, color=(0, 0, 1), name=\"blue\")\n",
    "\n",
    "z = np.sin(8 * np.pi * x / l) * np.sin(8 * np.pi * y / l) * 20 - 40\n",
    "bplt.Surface(x, y, z, color=(1, 1, 1), name=\"white\")"
   ]
  }
 ],
 "metadata": {
  "kernelspec": {
   "display_name": "blender",
   "language": "python",
   "name": "blender"
  },
  "language_info": {
   "codemirror_mode": {
    "name": "ipython",
    "version": 3
   },
   "file_extension": ".py",
   "mimetype": "text/x-python",
   "name": "python",
   "nbconvert_exporter": "python",
   "pygments_lexer": "ipython3",
   "version": "3.10.12"
  },
  "orig_nbformat": 4
 },
 "nbformat": 4,
 "nbformat_minor": 2
}
